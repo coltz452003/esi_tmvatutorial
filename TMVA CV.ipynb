{
 "cells": [
  {
   "cell_type": "markdown",
   "metadata": {},
   "source": [
    "<img src=\"http://oproject.org/tiki-download_file.php?fileId=8&display&x=450&y=128\">\n",
    "<img src=\"http://gfif.udea.edu.co/root/tmva/img/tmva_logo.gif\">\n",
    "\n"
   ]
  },
  {
   "cell_type": "markdown",
   "metadata": {},
   "source": [
    "## Declare Factory"
   ]
  },
  {
   "cell_type": "code",
   "execution_count": 1,
   "metadata": {
    "collapsed": false
   },
   "outputs": [],
   "source": [
    "TMVA::Tools::Instance();\n",
    "\n",
    "TFile *inputFile = TFile::Open( \"inputdata.root\");\n",
    "TFile *outputFile = TFile::Open(\"TMVAOutputCV.root\", \"RECREATE\" );\n",
    "\n",
    "TMVA::Factory *factory = new TMVA::Factory(\"TMVAClassification\", outputFile,\n",
    "                             \"!V:!ROC:!Correlations:Silent:Color:!DrawProgressBar:AnalysisType=Classification\" ); "
   ]
  },
  {
   "cell_type": "markdown",
   "metadata": {},
   "source": [
    "## Declare DataLoader"
   ]
  },
  {
   "cell_type": "code",
   "execution_count": 2,
   "metadata": {
    "collapsed": false
   },
   "outputs": [],
   "source": [
    "TMVA::DataLoader *loader=new TMVA::DataLoader(\"dataset\");\n",
    "\n",
    "loader->AddVariable( \"var1\", 'F' );\n",
    "loader->AddVariable( \"var2\", 'F' );\n",
    "loader->AddVariable( \"var3\", 'F' );\n",
    "loader->AddVariable( \"var4\", 'F' );\n",
    "loader->AddVariable( \"var5 := var1-var2\", 'F' );\n",
    "loader->AddVariable( \"var6 := var1*var2\", 'F' );"
   ]
  },
  {
   "cell_type": "markdown",
   "metadata": {},
   "source": [
    "## Setup Dataset"
   ]
  },
  {
   "cell_type": "code",
   "execution_count": 3,
   "metadata": {
    "collapsed": false
   },
   "outputs": [],
   "source": [
    "TTree *tsignal     = (TTree*)inputFile->Get(\"Sig\");\n",
    "TTree *tbackground = (TTree*)inputFile->Get(\"Bkg\");\n",
    "\n",
    "TCut mycuts = \"\";\n",
    "TCut mycutb = \"\";\n",
    "   \n",
    "loader->AddSignalTree    ( tsignal,     1.0 ); //signal weight     = 1\n",
    "loader->AddBackgroundTree( tbackground, 1.0 ); //background weight = 1      \n",
    "loader->PrepareTrainingAndTestTree( mycuts, mycutb,\n",
    "\"nTrain_Signal=1000:nTrain_Background=1000:SplitMode=Random:NormMode=NumEvents:!V\" ); "
   ]
  },
  {
   "cell_type": "markdown",
   "metadata": {},
   "source": [
    "## Perform Cross Validation"
   ]
  },
  {
   "cell_type": "code",
   "execution_count": 4,
   "metadata": {
    "collapsed": false
   },
   "outputs": [
    {
     "name": "stdout",
     "output_type": "stream",
     "text": [
      "Fold 1 ROCIntegral: 0.849132\n",
      "Fold 2 ROCIntegral: 0.84909\n",
      "Fold 3 ROCIntegral: 0.854479\n",
      "Fold 4 ROCIntegral: 0.872519\n",
      "Fold 5 ROCIntegral: 0.860324\n",
      "Average ROCIntegral: 0.857109\n"
     ]
    }
   ],
   "source": [
    "factory->CrossValidate(loader, TMVA::Types::kBDT,  \"BDT\",\"!V:NTrees=10:MinNodeSize=2.5%:MaxDepth=2:BoostType=AdaBoost:AdaBoostBeta=0.5:UseBaggedBoost:BaggedSampleFraction=0.5:SeparationType=GiniIndex:nCuts=20\", /*optimise hyper-parameters*/ false, /*Number of folds*/ 5);"
   ]
  },
  {
   "cell_type": "markdown",
   "metadata": {
    "collapsed": false
   },
   "source": [
    "## Cleanup memory"
   ]
  },
  {
   "cell_type": "code",
   "execution_count": 5,
   "metadata": {
    "collapsed": false
   },
   "outputs": [],
   "source": [
    "outputFile->Close();\n",
    "delete factory;\n",
    "delete loader;"
   ]
  },
  {
   "cell_type": "code",
   "execution_count": null,
   "metadata": {
    "collapsed": true
   },
   "outputs": [],
   "source": []
  }
 ],
 "metadata": {
  "kernelspec": {
   "display_name": "ROOT C++",
   "language": "c++",
   "name": "root"
  },
  "language_info": {
   "codemirror_mode": "text/x-c++src",
   "file_extension": ".C",
   "mimetype": " text/x-c++src",
   "name": "c++"
  }
 },
 "nbformat": 4,
 "nbformat_minor": 0
}
